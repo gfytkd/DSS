{
 "cells": [
  {
   "cell_type": "code",
   "execution_count": 1,
   "id": "597c5cc9-1833-4526-8e50-f34432124ec7",
   "metadata": {},
   "outputs": [],
   "source": [
    "# Experinment no. 2  , 5"
   ]
  },
  {
   "cell_type": "code",
   "execution_count": 2,
   "id": "cba04ba3-de4a-4ccf-a81a-7c0e10727871",
   "metadata": {},
   "outputs": [],
   "source": [
    "# Aim:to perform central tendency of mean median and measure"
   ]
  },
  {
   "cell_type": "code",
   "execution_count": 3,
   "id": "f32f854e-6c98-481b-88d4-9c7404129298",
   "metadata": {},
   "outputs": [],
   "source": [
    "#Name = shivam Dinesh Dhumankhede\n",
    "# Roll no. = 13\n",
    "#Sec = c\n",
    "#Subject = ET 1\n",
    "#Date = 01-08-2025"
   ]
  },
  {
   "cell_type": "code",
   "execution_count": 4,
   "id": "0421799f-f6af-4c70-b0d5-dd1cfa319153",
   "metadata": {},
   "outputs": [],
   "source": [
    "age=[22,21,20,20,21,21,21,21,20,20,22,20,22,21,22,22,22,22,22]"
   ]
  },
  {
   "cell_type": "code",
   "execution_count": 5,
   "id": "12983808-917e-45ad-845f-96260d9d7df5",
   "metadata": {},
   "outputs": [
    {
     "data": {
      "text/plain": [
       "[22, 21, 20, 20, 21, 21, 21, 21, 20, 20, 22, 20, 22, 21, 22, 22, 22, 22, 22]"
      ]
     },
     "execution_count": 5,
     "metadata": {},
     "output_type": "execute_result"
    }
   ],
   "source": [
    "age"
   ]
  },
  {
   "cell_type": "code",
   "execution_count": 6,
   "id": "0007d6b3-7b5d-4bab-825b-2b368ed9ec9c",
   "metadata": {},
   "outputs": [
    {
     "name": "stdout",
     "output_type": "stream",
     "text": [
      "[22, 21, 20, 20, 21, 21, 21, 21, 20, 20, 22, 20, 22, 21, 22, 22, 22, 22, 22]\n"
     ]
    }
   ],
   "source": [
    "print(age)"
   ]
  },
  {
   "cell_type": "code",
   "execution_count": 7,
   "id": "cddab83e-89ae-4d1b-82ea-a41c53ba0869",
   "metadata": {},
   "outputs": [],
   "source": [
    "import statistics as st"
   ]
  },
  {
   "cell_type": "code",
   "execution_count": 8,
   "id": "4b4859ce-0f09-4454-a623-83a4fb83ed9f",
   "metadata": {},
   "outputs": [],
   "source": [
    "a = st.mean(age)"
   ]
  },
  {
   "cell_type": "code",
   "execution_count": 9,
   "id": "f9676c2b-c435-41ab-a484-5326ed05a884",
   "metadata": {},
   "outputs": [
    {
     "data": {
      "text/plain": [
       "21.157894736842106"
      ]
     },
     "execution_count": 9,
     "metadata": {},
     "output_type": "execute_result"
    }
   ],
   "source": [
    "a"
   ]
  },
  {
   "cell_type": "code",
   "execution_count": 10,
   "id": "0315068e-d533-4228-886d-2479776b659f",
   "metadata": {},
   "outputs": [],
   "source": [
    "b = st.median(age)"
   ]
  },
  {
   "cell_type": "code",
   "execution_count": 11,
   "id": "456888c3-de79-418d-bf3c-68ec3b0174c0",
   "metadata": {},
   "outputs": [
    {
     "data": {
      "text/plain": [
       "21"
      ]
     },
     "execution_count": 11,
     "metadata": {},
     "output_type": "execute_result"
    }
   ],
   "source": [
    "b"
   ]
  },
  {
   "cell_type": "code",
   "execution_count": 12,
   "id": "3171c957-50d3-49ac-b9ae-cc234fda2f0a",
   "metadata": {},
   "outputs": [],
   "source": [
    "c = st.mode(age)"
   ]
  },
  {
   "cell_type": "code",
   "execution_count": 13,
   "id": "54989257-7a92-4e18-b910-c6c99113da4c",
   "metadata": {},
   "outputs": [
    {
     "data": {
      "text/plain": [
       "22"
      ]
     },
     "execution_count": 13,
     "metadata": {},
     "output_type": "execute_result"
    }
   ],
   "source": [
    "c"
   ]
  },
  {
   "cell_type": "code",
   "execution_count": 14,
   "id": "f53d6ee0-475b-430c-8bd7-9a8056af6ba7",
   "metadata": {},
   "outputs": [],
   "source": [
    "import numpy as np\n",
    "x = np.array ([1,2,3,4,5,6,7,2,6,2,1,4,2,2,6])"
   ]
  },
  {
   "cell_type": "code",
   "execution_count": 15,
   "id": "cee2e638-3779-406d-8d48-a4b44f579d54",
   "metadata": {},
   "outputs": [
    {
     "data": {
      "text/plain": [
       "array([1, 2, 3, 4, 5, 6, 7, 2, 6, 2, 1, 4, 2, 2, 6])"
      ]
     },
     "execution_count": 15,
     "metadata": {},
     "output_type": "execute_result"
    }
   ],
   "source": [
    "x"
   ]
  },
  {
   "cell_type": "code",
   "execution_count": 16,
   "id": "2bf95bbf-2f79-4e2b-80ec-d95669d3043c",
   "metadata": {},
   "outputs": [
    {
     "name": "stdout",
     "output_type": "stream",
     "text": [
      "3.533333333333333\n"
     ]
    }
   ],
   "source": [
    "print(np.mean(x))"
   ]
  },
  {
   "cell_type": "code",
   "execution_count": 17,
   "id": "f54796d6-5e82-4d8b-a09d-00a593765cc0",
   "metadata": {},
   "outputs": [
    {
     "name": "stdout",
     "output_type": "stream",
     "text": [
      "3.0\n"
     ]
    }
   ],
   "source": [
    "print(np.median(x))"
   ]
  },
  {
   "cell_type": "markdown",
   "id": "a1d9da74-2da5-4335-ab32-01e6b7379dea",
   "metadata": {},
   "source": [
    "print(np.mode(x)) //it gierror numpy has no attribute mode"
   ]
  },
  {
   "cell_type": "code",
   "execution_count": 19,
   "id": "ddcc1f7f-3517-4f8b-ae96-384f7962e279",
   "metadata": {},
   "outputs": [],
   "source": [
    "from scipy import stats"
   ]
  },
  {
   "cell_type": "code",
   "execution_count": 20,
   "id": "2582f3df-5915-4680-aaaa-bda1b9234e56",
   "metadata": {},
   "outputs": [
    {
     "name": "stdout",
     "output_type": "stream",
     "text": [
      "ModeResult(mode=np.int64(2), count=np.int64(5))\n"
     ]
    }
   ],
   "source": [
    "print(stats.mode(x))"
   ]
  },
  {
   "cell_type": "code",
   "execution_count": 21,
   "id": "fd5b00e4-8075-4f99-aead-a8ecd4c8fd53",
   "metadata": {},
   "outputs": [
    {
     "name": "stdout",
     "output_type": "stream",
     "text": [
      "1.9618585292749546\n"
     ]
    }
   ],
   "source": [
    "print(np.std(x))"
   ]
  },
  {
   "cell_type": "code",
   "execution_count": 22,
   "id": "809c4a94-281d-4198-bbe7-e0e6c9b466a0",
   "metadata": {},
   "outputs": [
    {
     "name": "stdout",
     "output_type": "stream",
     "text": [
      "3.8488888888888884\n"
     ]
    }
   ],
   "source": [
    "print(np.var(x))"
   ]
  },
  {
   "cell_type": "code",
   "execution_count": null,
   "id": "4257caf7-3655-4c28-98f6-437427b2d8dd",
   "metadata": {},
   "outputs": [],
   "source": []
  }
 ],
 "metadata": {
  "kernelspec": {
   "display_name": "Python [conda env:base] *",
   "language": "python",
   "name": "conda-base-py"
  },
  "language_info": {
   "codemirror_mode": {
    "name": "ipython",
    "version": 3
   },
   "file_extension": ".py",
   "mimetype": "text/x-python",
   "name": "python",
   "nbconvert_exporter": "python",
   "pygments_lexer": "ipython3",
   "version": "3.13.5"
  }
 },
 "nbformat": 4,
 "nbformat_minor": 5
}
